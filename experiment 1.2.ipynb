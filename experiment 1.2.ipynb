{
 "cells": [
  {
   "cell_type": "code",
   "execution_count": 13,
   "id": "066abc97-11aa-4323-9f09-06eaf61ba3be",
   "metadata": {},
   "outputs": [
    {
     "name": "stdout",
     "output_type": "stream",
     "text": [
      "A= [[1 2]\n",
      " [3 4]\n",
      " [5 6]]\n",
      "Shape of array A: (3, 2)\n",
      "\n",
      "U = [[-0.2298477   0.88346102  0.40824829]\n",
      " [-0.52474482  0.24078249 -0.81649658]\n",
      " [-0.81964194 -0.40189603  0.40824829]]\n",
      "Shape of matrix U: (3, 3)\n",
      "\n",
      "Sigma(diagonal matrix),s= [9.52551809 0.51430058]\n",
      "Shape of matrix sigma: (2,)\n",
      "\n",
      "transpose matrix,VT= [[-0.61962948 -0.78489445]\n",
      " [-0.78489445  0.61962948]]\n",
      "shape of matrix VT: (2, 2)\n"
     ]
    }
   ],
   "source": [
    "from numpy import array\n",
    "from scipy.linalg import svd\n",
    "A=array([[1, 2],[3, 4],[5, 6]])\n",
    "print(\"A=\",A)\n",
    "print(\"Shape of array A:\",A.shape)\n",
    "print(\"\")\n",
    "U,s,VT=svd(A)\n",
    "print(\"U =\",U)\n",
    "print(\"Shape of matrix U:\",U.shape)\n",
    "print(\"\")\n",
    "print(\"Sigma(diagonal matrix),s=\",s)\n",
    "print(\"Shape of matrix sigma:\",s.shape)\n",
    "print(\"\")\n",
    "print(\"transpose matrix,VT=\",VT)\n",
    "print(\"shape of matrix VT:\",VT.shape)"
   ]
  },
  {
   "cell_type": "code",
   "execution_count": null,
   "id": "3237c989-a2ac-4b3a-913e-5c81d119c0a8",
   "metadata": {},
   "outputs": [],
   "source": []
  },
  {
   "cell_type": "code",
   "execution_count": 13,
   "id": "2412901b-1383-427f-bd2b-e28d022d8078",
   "metadata": {},
   "outputs": [
    {
     "name": "stdout",
     "output_type": "stream",
     "text": [
      "A= [[1 2]\n",
      " [3 4]\n",
      " [5 6]]\n",
      "Shape of array A: (3, 2)\n",
      "\n",
      "U = [[-0.2298477   0.88346102  0.40824829]\n",
      " [-0.52474482  0.24078249 -0.81649658]\n",
      " [-0.81964194 -0.40189603  0.40824829]]\n",
      "Shape of matrix U: (3, 3)\n",
      "\n",
      "Sigma(diagonal matrix),s= [9.52551809 0.51430058]\n",
      "Shape of matrix sigma: (2,)\n",
      "\n",
      "transpose matrix,VT= [[-0.61962948 -0.78489445]\n",
      " [-0.78489445  0.61962948]]\n",
      "shape of matrix VT: (2, 2)\n"
     ]
    }
   ],
   "source": [
    "from numpy import array\n",
    "from scipy.linalg import svd\n",
    "A=array([[1, 2],[3, 4],[5, 6]])\n",
    "print(\"A=\",A)\n",
    "print(\"Shape of array A:\",A.shape)\n",
    "print(\"\")\n",
    "U,s,VT=svd(A)\n",
    "print(\"U =\",U)\n",
    "print(\"Shape of matrix U:\",U.shape)\n",
    "print(\"\")\n",
    "print(\"Sigma(diagonal matrix),s=\",s)\n",
    "print(\"Shape of matrix sigma:\",s.shape)\n",
    "print(\"\")\n",
    "print(\"transpose matrix,VT=\",VT)\n",
    "print(\"shape of matrix VT:\",VT.shape)"
   ]
  },
  {
   "cell_type": "code",
   "execution_count": 16,
   "id": "83197c82-2b66-425a-b03a-d9a0f4e08ef3",
   "metadata": {},
   "outputs": [
    {
     "name": "stdout",
     "output_type": "stream",
     "text": [
      "A= [[1 2]\n",
      " [3 4]\n",
      " [5 6]]\n",
      "pseudoinverse of matrix A calculated by function pinv is:\n",
      "[[-1.33333333 -0.33333333  0.66666667]\n",
      " [ 1.08333333  0.33333333 -0.41666667]]\n",
      "pseudoinverse of matrix A calculated by using svd is:\n",
      "[[-1.33333333 -0.33333333  0.66666667]\n",
      " [ 1.08333333  0.33333333 -0.41666667]]\n"
     ]
    }
   ],
   "source": [
    "from numpy import array,diag,zeros\n",
    "from scipy.linalg import pinv\n",
    "from numpy.linalg import svd\n",
    "A=array([[1,2],[3,4],[5,6]])\n",
    "print(\"A=\",A)\n",
    "print(\"pseudoinverse of matrix A calculated by function pinv is:\")\n",
    "print(pinv(A))\n",
    "d=1.0/s\n",
    "D=zeros(A.shape)\n",
    "D[:A.shape[1],:A.shape[1]]=diag(d)\n",
    "B=VT.T.dot(D.T).dot(U.T)\n",
    "print(\"pseudoinverse of matrix A calculated by using svd is:\")\n",
    "print(B)"
   ]
  },
  {
   "cell_type": "code",
   "execution_count": 18,
   "id": "0ffb83a6-801e-4bb9-9189-03af4d80d1ea",
   "metadata": {},
   "outputs": [
    {
     "name": "stdout",
     "output_type": "stream",
     "text": [
      "A= [[1 2]\n",
      " [3 4]\n",
      " [5 6]]\n",
      "shape of matrix A (3, 2)\n",
      "U= [[-0.2298477   0.88346102  0.40824829]\n",
      " [-0.52474482  0.24078249 -0.81649658]\n",
      " [-0.81964194 -0.40189603  0.40824829]]\n",
      "shape of matrix U (3, 3)\n",
      "sigma diagonal matrix s= [9.52551809 0.51430058]\n",
      "shape of matrix s (2,)\n",
      "VT= [[-0.61962948 -0.78489445]\n",
      " [-0.78489445  0.61962948]]\n",
      "shape of diagonal matrix (2, 2)\n",
      "reconstruted matrix: [[1. 2.]\n",
      " [3. 4.]\n",
      " [5. 6.]]\n"
     ]
    }
   ],
   "source": [
    "from numpy import array,diag,dot,zeros\n",
    "from scipy.linalg import svd\n",
    "A=array([[1,2],[3,4],[5,6]])\n",
    "print(\"A=\",A)\n",
    "print(\"shape of matrix A\",A.shape)\n",
    "U,s,VT=svd(A)\n",
    "print(\"U=\",U)\n",
    "print(\"shape of matrix U\",U.shape)\n",
    "print(\"sigma diagonal matrix s=\",s)\n",
    "print(\"shape of matrix s\",s.shape)\n",
    "print(\"VT=\",VT)\n",
    "print(\"shape of diagonal matrix\",VT.shape)\n",
    "sigma=zeros((A.shape[0],A.shape[1]))\n",
    "sigma[:A.shape[1],:A.shape[1]]=diag(s)\n",
    "B=U.dot(sigma.dot(VT))\n",
    "print(\"reconstruted matrix:\",B)\n"
   ]
  },
  {
   "cell_type": "code",
   "execution_count": null,
   "id": "3c28e903-757c-4564-a471-9bf1c1805897",
   "metadata": {},
   "outputs": [],
   "source": [
    "import numpy as n \n",
    "x=np.array([[1,2],[3,4]],dtype=np.float64)\n",
    "y=np.array([[6,9],[4,4]],dtype=np.float64)\n",
    "print(\"x=\""
   ]
  }
 ],
 "metadata": {
  "kernelspec": {
   "display_name": "Python 3 (ipykernel)",
   "language": "python",
   "name": "python3"
  },
  "language_info": {
   "codemirror_mode": {
    "name": "ipython",
    "version": 3
   },
   "file_extension": ".py",
   "mimetype": "text/x-python",
   "name": "python",
   "nbconvert_exporter": "python",
   "pygments_lexer": "ipython3",
   "version": "3.12.4"
  }
 },
 "nbformat": 4,
 "nbformat_minor": 5
}
