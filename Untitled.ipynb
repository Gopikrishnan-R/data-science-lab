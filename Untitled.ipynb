{
 "cells": [
  {
   "cell_type": "code",
   "execution_count": 1,
   "id": "32a9ad27-8d32-41ac-b0ef-9eb6685912b4",
   "metadata": {},
   "outputs": [
    {
     "name": "stdout",
     "output_type": "stream",
     "text": [
      "Demo of basic data types:numbers\n",
      "x: 23\n",
      "y: 2.5\n",
      "x: <class 'int'>\n",
      "y: <class 'float'>\n",
      "ADD: 25.5\n",
      "sub: 20.5\n",
      "mul: 57.5\n",
      "expo: 2536.9948758324285\n"
     ]
    }
   ],
   "source": [
    "print(\"Demo of basic data types:numbers\")\n",
    "x=23\n",
    "y=2.5\n",
    "print(\"x:\",x)\n",
    "print(\"y:\",y)\n",
    "print(\"x:\",type(x))\n",
    "print(\"y:\",type(y))\n",
    "print(\"ADD:\",x+y)\n",
    "print(\"sub:\",x-y)\n",
    "print(\"mul:\",x*y)\n",
    "print(\"expo:\",x**y)\n"
   ]
  },
  {
   "cell_type": "code",
   "execution_count": 3,
   "id": "2809632e-a0a4-403b-b3ff-69ec2e2ca8b4",
   "metadata": {},
   "outputs": [
    {
     "name": "stdout",
     "output_type": "stream",
     "text": [
      "Demo of basic data types:Boolean\n",
      "t: True\n",
      "F: False\n",
      "Datatypes of variable t: <class 'bool'>\n",
      "Datatypes of variable f: <class 'bool'>\n",
      "Logical AND opertion: False\n",
      "Logical OR opertion: True\n",
      "Logical Not opertion: False\n",
      "Logical XOR opertion: True\n"
     ]
    }
   ],
   "source": [
    "print(\"Demo of basic data types:Boolean\")\n",
    "t=True\n",
    "f=False\n",
    "print(\"t:\",t)\n",
    "print(\"F:\",f)\n",
    "print(\"Datatypes of variable t:\",type(t))\n",
    "print(\"Datatypes of variable f:\",type(f))\n",
    "print(\"Logical AND opertion:\",t and f)\n",
    "print(\"Logical OR opertion:\",t or f)\n",
    "print(\"Logical Not opertion:\", not t)\n",
    "print(\"Logical XOR opertion:\",t!=f)\n"
   ]
  },
  {
   "cell_type": "code",
   "execution_count": 9,
   "id": "7a9fe8c1-5d47-4122-b5c9-7c7ff908ce7b",
   "metadata": {},
   "outputs": [
    {
     "name": "stdout",
     "output_type": "stream",
     "text": [
      "Demo of basic data types:String\n",
      "String s: hello\n",
      "String t: world\n",
      "strconcat: hello world\n",
      "Capitalize Hello world\n",
      "UpperCase: HELLO WORLD\n",
      "Right justify hello world\n",
      "String at center hello world\n",
      "String replay r with ell: hello woellld\n",
      "Using strip: hello world\n"
     ]
    }
   ],
   "source": [
    "print(\"Demo of basic data types:String\")\n",
    "s=\"hello\"\n",
    "t=\"world\"\n",
    "print(\"String s:\",s)\n",
    "print(\"String t:\",t)\n",
    "d=s+\" \"+t\n",
    "print(\"strconcat:\",d)\n",
    "print(\"Capitalize\",d.capitalize())\n",
    "print(\"UpperCase:\",d.upper())\n",
    "print(\"Right justify\",d.rjust(7))\n",
    "print(\"String at center\",d.center(7))\n",
    "print(\"String replay r with ell:\",d.replace('r','ell'))\n",
    "print(\"Using strip:\",d.strip())\n"
   ]
  },
  {
   "cell_type": "code",
   "execution_count": null,
   "id": "ae9021a6-2617-4fbf-a00c-8668dcfa1b1b",
   "metadata": {},
   "outputs": [],
   "source": []
  },
  {
   "cell_type": "code",
   "execution_count": 6,
   "id": "572c28c3-6677-4ca0-ba7f-5ec2f94b359b",
   "metadata": {},
   "outputs": [
    {
     "name": "stdout",
     "output_type": "stream",
     "text": [
      "Containers.list\n",
      "list num contains [0, 1, 2, 3, 4]\n",
      "Contains elements of diff types [0, 1, 2, 3, 'abc']\n",
      "nums after inserting new elements at the end [0, 1, 2, 3, 'abc', 'xyz']\n",
      "sublist\n",
      "index 2 to 4: [2, 3]\n",
      "Index 2 to end: [2, 3, 'abc', 'xyz']\n",
      "Index to end: [0, 1]\n",
      "a slice of the whole list [0, 1, 2, 3, 'abc', 'xyz']\n",
      "After assigning new values to num: [0, 1, 2, 3, 8, 9]\n",
      "1:0\n",
      "2:1\n",
      "3:2\n",
      "4:3\n",
      "5:8\n",
      "6:9\n",
      "List: [0, 4, 64]\n"
     ]
    }
   ],
   "source": [
    "print(\"Containers.list\")\n",
    "num=list(range(5))\n",
    "print(\"list num contains\",num)\n",
    "num[4]=\"abc\"\n",
    "print(\"Contains elements of diff types\",num)\n",
    "num.append(\"xyz\")\n",
    "print(\"nums after inserting new elements at the end\",num)\n",
    "print(\"sublist\")\n",
    "print(\"index 2 to 4:\",num[2:4])\n",
    "print(\"Index 2 to end:\",num[2:])\n",
    "print(\"Index to end:\",num[:2])\n",
    "print(\"a slice of the whole list\",num[:])\n",
    "num[4:]=[8,9]\n",
    "print(\"After assigning new values to num:\",num[:])\n",
    "for idx,i in enumerate(num):\n",
    "    print('%d:%s'%(idx+1,i))\n",
    "even_squares=[x**2 for x in num if x%2==0]\n",
    "print(\"List:\",even_squares)"
   ]
  },
  {
   "cell_type": "code",
   "execution_count": 7,
   "id": "ce3d0ba4-6875-4e31-b1bb-c282dd39aca8",
   "metadata": {},
   "outputs": [
    {
     "name": "stdout",
     "output_type": "stream",
     "text": [
      "Containers:Tuples\n",
      "Dict with tupleskey\n",
      "(0, 1) : 0\n",
      "(1, 2) : 1\n",
      "(2, 3) : 2\n",
      "(3, 4) : 3\n",
      "(4, 5) : 4\n",
      "(5, 6) : 5\n",
      "(6, 7) : 6\n",
      "(7, 8) : 7\n",
      "(8, 9) : 8\n",
      "(9, 10) : 9\n",
      "tuple t: (5, 6)\n",
      "5\n",
      "1\n",
      "Containers:Tuples\n",
      "Dict with tupleskey\n",
      "(0, 1) : 0\n",
      "(1, 2) : 1\n",
      "(2, 3) : 2\n",
      "(3, 4) : 3\n",
      "(4, 5) : 4\n",
      "(5, 6) : 5\n",
      "(6, 7) : 6\n",
      "(7, 8) : 7\n",
      "(8, 9) : 8\n",
      "(9, 10) : 9\n",
      "tuple t: (5, 6)\n",
      "5\n",
      "1\n"
     ]
    }
   ],
   "source": [
    "print('Containers:Tuples')\n",
    "d={(x,x+1):x for x in range(10)}\n",
    "print(\"Dict with tupleskey\")\n",
    "for k,v in d.items():\n",
    "    print(k,\":\",v)\n",
    "t=(5,6)\n",
    "print(\"tuple t:\",t)\n",
    "print(d[t])\n",
    "print(d[1,2])\n",
    "print('Containers:Tuples')\n",
    "d={(x,x+1):x for x in range(10)}\n",
    "print(\"Dict with tupleskey\")\n",
    "for k,v in d.items():\n",
    "    print(k,\":\",v)\n",
    "t=(5,6)\n",
    "print(\"tuple t:\",t)\n",
    "print(d[t])\n",
    "print(d[1,2])"
   ]
  },
  {
   "cell_type": "code",
   "execution_count": 11,
   "id": "37fc2d88-0e1f-45ab-8699-0e9c4f3dbf63",
   "metadata": {},
   "outputs": [
    {
     "name": "stdout",
     "output_type": "stream",
     "text": [
      "hello, fred\n",
      "hello, FRED\n"
     ]
    }
   ],
   "source": [
    "class Greeter:\n",
    "    def __init__(self, name):\n",
    "        self.name = name\n",
    "\n",
    "    def greet(self, loud=False):\n",
    "        if loud:\n",
    "            print(f\"hello, {self.name.upper()}\")\n",
    "        else:\n",
    "            print(f\"hello, {self.name}\")\n",
    "\n",
    "g = Greeter(\"fred\")\n",
    "g.greet()\n",
    "g.greet(loud=True)"
   ]
  },
  {
   "cell_type": "code",
   "execution_count": 10,
   "id": "2e291353-6ffc-4a72-b425-1d9397fbb05e",
   "metadata": {},
   "outputs": [
    {
     "name": "stdout",
     "output_type": "stream",
     "text": [
      "fact\n"
     ]
    },
    {
     "name": "stdin",
     "output_type": "stream",
     "text": [
      "Enter a number 5\n"
     ]
    },
    {
     "name": "stdout",
     "output_type": "stream",
     "text": [
      "fact: 120\n"
     ]
    }
   ],
   "source": [
    "print(\"fact\")\n",
    "def fact(n):\n",
    "    if n==1:\n",
    "        return 1\n",
    "    else:\n",
    "        return(n*fact(n-1))\n",
    "n=int(input(\"Enter a number\"))\n",
    "print(\"fact:\",fact(n))"
   ]
  },
  {
   "cell_type": "code",
   "execution_count": 1,
   "id": "9e69b174-53f5-4454-bb70-911a0ba6fd25",
   "metadata": {},
   "outputs": [
    {
     "name": "stdout",
     "output_type": "stream",
     "text": [
      "John\n",
      "{'name': 'John', 'age': 30, 'city': 'New York', 'country': 'USA'}\n",
      "{'name': 'John', 'age': 31, 'city': 'New York', 'country': 'USA'}\n",
      "{'name': 'John', 'age': 31, 'country': 'USA'}\n",
      "name:John\n",
      "age:31\n",
      "country:USA\n",
      "name:Alice\n",
      "age:25\n",
      "name:Bob\n",
      "age:30\n",
      "apple: red\n",
      "apple: sweet\n",
      "banana: yellow\n",
      "banana: peel\n"
     ]
    }
   ],
   "source": [
    "person = {'name': 'John', 'age': 30, 'city': 'New York'}\n",
    "\n",
    "print(person['name']) \n",
    "\n",
    "\n",
    "person['country'] = 'USA'\n",
    "print(person)  \n",
    "\n",
    "\n",
    "person['age'] = 31\n",
    "print(person) \n",
    "\n",
    "\n",
    "del person['city']\n",
    "print(person) \n",
    "\n",
    "for k, v in person.items():\n",
    "    print('%s:%s'%(k,v))\n",
    "\n",
    "\n",
    "people = [{'name': 'Alice', 'age': 25}, {'name': 'Bob', 'age': 30}]\n",
    "for person in people:\n",
    "    for k, v in person.items():\n",
    "        print('%s:%s'%(k,v))\n",
    "\n",
    "fruits = {'apple': ['red', 'sweet'], 'banana': ['yellow', 'peel']}\n",
    "for fruit, characteristics in fruits.items():\n",
    "    for characteristic in characteristics:\n",
    "        print('%s: %s'%(fruit, characteristic))\n",
    "\n"
   ]
  },
  {
   "cell_type": "code",
   "execution_count": 2,
   "id": "97f7409c-c583-4a2f-8161-9b661500c94d",
   "metadata": {},
   "outputs": [
    {
     "name": "stdout",
     "output_type": "stream",
     "text": [
      "{1, 2, 3, 4, 5}\n",
      "{1, 2, 3, 4, 5, 6}\n",
      "{1, 3, 4, 5, 6}\n",
      "True\n",
      "False\n",
      "{1, 2, 3, 4, 5}\n",
      "1\n",
      "2\n",
      "3\n",
      "4\n",
      "5\n",
      "{1, 2, 3, 4, 5}\n",
      "{3}\n",
      "{1, 2}\n",
      "{1, 2, 4, 5}\n"
     ]
    }
   ],
   "source": [
    "my_set = set([1, 2, 3, 4, 5])\n",
    "print(my_set)  \n",
    "my_set.add(6)\n",
    "my_set.add(2)\n",
    "print(my_set)  \n",
    "my_set.discard(2)\n",
    "print(my_set)  \n",
    "print(1 in my_set)  \n",
    "print(7 in my_set)  \n",
    "my_list = [1, 2, 3, 4, 5]\n",
    "my_set = set(my_list)\n",
    "print(my_set) \n",
    "for item in my_set:\n",
    "    print(item)\n",
    "set1 = {1, 2, 3}\n",
    "set2 = {3, 4, 5}\n",
    "union_set = set1.union(set2)\n",
    "print(union_set)  \n",
    "intersection_set = set1.intersection(set2)\n",
    "print(intersection_set)  \n",
    "difference_set = set1.difference(set2)\n",
    "print(difference_set)  \n",
    "symmetric_difference_set = set1.symmetric_difference(set2)\n",
    "print(symmetric_difference_set) \n",
    "\n"
   ]
  },
  {
   "cell_type": "code",
   "execution_count": 4,
   "id": "e2bc97f6-1832-4fd0-967b-93ac5620b1c6",
   "metadata": {},
   "outputs": [
    {
     "name": "stdout",
     "output_type": "stream",
     "text": [
      "One dimensional array a =  [1 2 3]\n",
      "Two dimensional array b =  [[1 2 3]\n",
      " [4 5 6]]\n",
      "Size of the array:  (3,)\n",
      "Element at indices 0,1,2:  1 2 3\n",
      "Array after changing the element at index 0:  [5 2 3]\n",
      "An array of all zeros:  [[0. 0.]\n",
      " [0. 0.]]\n",
      "An array of all ones:  [[1. 1.]]\n",
      "A constant array:  [[7 7]\n",
      " [7 7]]\n",
      "A 2*2 identity matrix:  [[1. 0.]\n",
      " [0. 1.]]\n",
      "An array with random values:  [[0.76583253 0.38887904]\n",
      " [0.72061673 0.20962721]]\n"
     ]
    }
   ],
   "source": [
    " import numpy as np\n",
    "\n",
    "a = np.array([1, 2, 3])\n",
    "\n",
    "print(\"One dimensional array a = \",a)\n",
    "\n",
    "b = np.array([[1,2,3],[4,5,6]])\n",
    "\n",
    "print(\"Two dimensional array b = \",b)\n",
    "\n",
    "print(\"Size of the array: \",a.shape)\n",
    "\n",
    "print(\"Element at indices 0,1,2: \",a[0], a[1], a[2])\n",
    "\n",
    "a[0] = 5 \n",
    "\n",
    "print(\"Array after changing the element at index 0: \",a)\n",
    "\n",
    "a = np.zeros((2,2)) \n",
    "\n",
    "print(\"An array of all zeros: \",a)\n",
    "\n",
    "b= np.ones((1,2)) \n",
    "\n",
    "print(\"An array of all ones: \",b)\n",
    "\n",
    "c = np.full((2,2), 7) \n",
    "\n",
    "print(\"A constant array: \",c)\n",
    "\n",
    "d = np.eye(2) \n",
    "\n",
    "print(\"A 2*2 identity matrix: \",d)\n",
    "\n",
    "e = np.random.random((2,2)) \n",
    "\n",
    "print(\"An array with random values: \",e)"
   ]
  },
  {
   "cell_type": "code",
   "execution_count": null,
   "id": "6e01293d-0176-412d-a794-ef4e87ed8dc2",
   "metadata": {},
   "outputs": [],
   "source": []
  }
 ],
 "metadata": {
  "kernelspec": {
   "display_name": "Python 3 (ipykernel)",
   "language": "python",
   "name": "python3"
  },
  "language_info": {
   "codemirror_mode": {
    "name": "ipython",
    "version": 3
   },
   "file_extension": ".py",
   "mimetype": "text/x-python",
   "name": "python",
   "nbconvert_exporter": "python",
   "pygments_lexer": "ipython3",
   "version": "3.12.4"
  }
 },
 "nbformat": 4,
 "nbformat_minor": 5
}
