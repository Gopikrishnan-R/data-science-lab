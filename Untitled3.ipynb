{
 "cells": [
  {
   "cell_type": "code",
   "execution_count": null,
   "id": "0e95c1a4-fe6d-417a-85eb-562818d1e4a4",
   "metadata": {},
   "outputs": [],
   "source": [
    "A = array([[1, 2], [3, 4], [5, 6]])\n",
    "\n",
    "print(\"A = \",A)\n",
    "\n",
    "print(\"Shape of array A: \",A.shape)\n",
    "\n",
    "print(\"\")\n",
    "\n",
    "U, pp. VT svd(A)# SVD\n",
    "\n",
    "print(\"U = \",U)\n",
    "\n",
    "print(\"Shape of matrix U: \", U.shape)\n",
    "\n",
    "print"
   ]
  }
 ],
 "metadata": {
  "kernelspec": {
   "display_name": "Python 3 (ipykernel)",
   "language": "python",
   "name": "python3"
  },
  "language_info": {
   "codemirror_mode": {
    "name": "ipython",
    "version": 3
   },
   "file_extension": ".py",
   "mimetype": "text/x-python",
   "name": "python",
   "nbconvert_exporter": "python",
   "pygments_lexer": "ipython3",
   "version": "3.12.4"
  }
 },
 "nbformat": 4,
 "nbformat_minor": 5
}
